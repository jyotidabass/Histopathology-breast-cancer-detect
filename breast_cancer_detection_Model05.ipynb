{
  "cells": [
    {
      "cell_type": "markdown",
      "metadata": {
        "id": "view-in-github",
        "colab_type": "text"
      },
      "source": [
        "<a href=\"https://colab.research.google.com/github/jyotidabass/Histopathology-breast-cancer-detect/blob/main/breast_cancer_detection_Model05.ipynb\" target=\"_parent\"><img src=\"https://colab.research.google.com/assets/colab-badge.svg\" alt=\"Open In Colab\"/></a>"
      ]
    },
    {
      "cell_type": "code",
      "execution_count": null,
      "metadata": {
        "id": "pCzk50x75xPA",
        "outputId": "3bc139f9-a658-4c62-eba6-c73a60a337da"
      },
      "outputs": [
        {
          "name": "stdout",
          "output_type": "stream",
          "text": [
            "[name: \"/device:CPU:0\"\n",
            "device_type: \"CPU\"\n",
            "memory_limit: 268435456\n",
            "locality {\n",
            "}\n",
            "incarnation: 4095255859727643816\n",
            ", name: \"/device:GPU:0\"\n",
            "device_type: \"GPU\"\n",
            "memory_limit: 4950209331\n",
            "locality {\n",
            "  bus_id: 1\n",
            "  links {\n",
            "  }\n",
            "}\n",
            "incarnation: 11036288259957190986\n",
            "physical_device_desc: \"device: 0, name: GeForce GTX 1060, pci bus id: 0000:01:00.0, compute capability: 6.1\"\n",
            "]\n"
          ]
        },
        {
          "name": "stderr",
          "output_type": "stream",
          "text": [
            "Using TensorFlow backend.\n"
          ]
        }
      ],
      "source": [
        "import numpy as np\n",
        "import pandas as pd\n",
        "import tensorflow as tf\n",
        "from tensorflow.python.client import device_lib\n",
        "print(device_lib.list_local_devices())\n",
        "import matplotlib.pylab as plt\n",
        "import seaborn as sns\n",
        "from glob import glob\n",
        "import fnmatch\n",
        "import cv2\n",
        "import argparse\n",
        "import pickle\n",
        "import os\n",
        "import sklearn\n",
        "from sklearn import model_selection\n",
        "from sklearn.model_selection import train_test_split, KFold, cross_val_score, StratifiedKFold, learning_curve, GridSearchCV\n",
        "from sklearn.metrics import confusion_matrix, make_scorer, accuracy_score, classification_report\n",
        "import keras\n",
        "from keras import backend as K\n",
        "K.tensorflow_backend._get_available_gpus()\n",
        "from keras.callbacks import Callback, EarlyStopping, ReduceLROnPlateau, ModelCheckpoint\n",
        "from keras.preprocessing.image import ImageDataGenerator\n",
        "from keras.utils import plot_model\n",
        "from keras.utils.np_utils import to_categorical\n",
        "from keras.utils.vis_utils import model_to_dot\n",
        "from keras.models import Sequential, model_from_json\n",
        "from keras.optimizers import SGD, RMSprop, Adam, Adagrad, Adadelta\n",
        "from keras.layers import Dense, Dropout, Embedding, SpatialDropout1D, Activation, Flatten, BatchNormalization, Conv2D, MaxPool2D, MaxPooling2D\n",
        "%matplotlib inline\n",
        "import random"
      ]
    },
    {
      "cell_type": "code",
      "execution_count": null,
      "metadata": {
        "id": "6u8ysr9u5xPE",
        "outputId": "41aab47d-0d5d-4379-c7dd-0f797824f20c"
      },
      "outputs": [
        {
          "name": "stdout",
          "output_type": "stream",
          "text": [
            "IDC_regular_ps50_idx5\\10253\\0\\10253_idx5_x1001_y1001_class0.png\n",
            "IDC_regular_ps50_idx5\\10253\\0\\10253_idx5_x1001_y1051_class0.png\n",
            "IDC_regular_ps50_idx5\\10253\\0\\10253_idx5_x1001_y1101_class0.png\n",
            "IDC_regular_ps50_idx5\\10253\\0\\10253_idx5_x1001_y1151_class0.png\n",
            "IDC_regular_ps50_idx5\\10253\\0\\10253_idx5_x1001_y1201_class0.png\n",
            "IDC_regular_ps50_idx5\\10253\\0\\10253_idx5_x1001_y1251_class0.png\n",
            "IDC_regular_ps50_idx5\\10253\\0\\10253_idx5_x1001_y1301_class0.png\n",
            "IDC_regular_ps50_idx5\\10253\\0\\10253_idx5_x1001_y1351_class0.png\n",
            "IDC_regular_ps50_idx5\\10253\\0\\10253_idx5_x1001_y1501_class0.png\n",
            "IDC_regular_ps50_idx5\\10253\\0\\10253_idx5_x1001_y1551_class0.png\n"
          ]
        }
      ],
      "source": [
        "# source: https://www.kaggle.com/paultimothymooney/predicting-idc-in-breast-cancer-histology-images/notebook\n",
        "imagePatches = glob('IDC_regular_ps50_idx5/**/*.png', recursive=True) # search pathname/folder to find .png files recursively then parse files\n",
        "for filename in imagePatches[0:10]:\n",
        "    print(filename)"
      ]
    },
    {
      "cell_type": "code",
      "execution_count": null,
      "metadata": {
        "id": "cOtitBBB5xPF",
        "outputId": "9edde7bd-8876-4e58-a8a6-026a375d19a4"
      },
      "outputs": [
        {
          "data": {
            "image/png": "[encoded data removed]",
            "text/plain": [
              "<Figure size 432x288 with 1 Axes>"
            ]
          },
          "metadata": {
            "needs_background": "light"
          },
          "output_type": "display_data"
        }
      ],
      "source": [
        "image_name = \"IDC_regular_ps50_idx5/9135/1/9135_idx5_x1701_y1851_class1.png\" #Image to be used as query\n",
        "def plotImage(image_location):\n",
        "    image = cv2.imread(image_name)\n",
        "    image = cv2.resize(image, (50,50))\n",
        "    plt.imshow(cv2.cvtColor(image, cv2.COLOR_BGR2RGB)); plt.axis('off')\n",
        "    return\n",
        "plotImage(image_name)"
      ]
    },
    {
      "cell_type": "code",
      "execution_count": null,
      "metadata": {
        "id": "kJJn6eEt5xPF",
        "outputId": "ed262744-7ad6-4d94-a7d3-696599d3ca83"
      },
      "outputs": [
        {
          "name": "stdout",
          "output_type": "stream",
          "text": [
            "IDC(-)\n",
            "\n",
            " ['IDC_regular_ps50_idx5\\\\10253\\\\0\\\\10253_idx5_x1001_y1001_class0.png', 'IDC_regular_ps50_idx5\\\\10253\\\\0\\\\10253_idx5_x1001_y1051_class0.png', 'IDC_regular_ps50_idx5\\\\10253\\\\0\\\\10253_idx5_x1001_y1101_class0.png', 'IDC_regular_ps50_idx5\\\\10253\\\\0\\\\10253_idx5_x1001_y1151_class0.png', 'IDC_regular_ps50_idx5\\\\10253\\\\0\\\\10253_idx5_x1001_y1201_class0.png'] \n",
            "\n",
            "IDC(+)\n",
            "\n",
            " ['IDC_regular_ps50_idx5\\\\10253\\\\1\\\\10253_idx5_x501_y351_class1.png', 'IDC_regular_ps50_idx5\\\\10253\\\\1\\\\10253_idx5_x501_y401_class1.png', 'IDC_regular_ps50_idx5\\\\10253\\\\1\\\\10253_idx5_x551_y301_class1.png', 'IDC_regular_ps50_idx5\\\\10253\\\\1\\\\10253_idx5_x551_y351_class1.png', 'IDC_regular_ps50_idx5\\\\10253\\\\1\\\\10253_idx5_x551_y401_class1.png']\n"
          ]
        }
      ],
      "source": [
        "patternZero = '*class0.png'\n",
        "patternOne = '*class1.png'\n",
        "classZero = fnmatch.filter(imagePatches, patternZero) #filename pattern matching returns subset of list of names\n",
        "classOne = fnmatch.filter(imagePatches, patternOne)\n",
        "print(\"IDC(-)\\n\\n\",classZero[0:5],'\\n')\n",
        "print(\"IDC(+)\\n\\n\",classOne[0:5])"
      ]
    },
    {
      "cell_type": "code",
      "execution_count": null,
      "metadata": {
        "id": "fIt-JmPv5xPF"
      },
      "outputs": [],
      "source": [
        "def proc_images(lowerIndex,upperIndex):\n",
        "    \"\"\"\n",
        "    Returns two arrays: \n",
        "        x is an array of resized images\n",
        "        y is an array of labels\n",
        "    \"\"\" \n",
        "    x = []\n",
        "    y = []\n",
        "    WIDTH = 50\n",
        "    HEIGHT = 50\n",
        "    for img in imagePatches[lowerIndex:upperIndex]:\n",
        "        full_size_image = cv2.imread(img)\n",
        "        x.append(cv2.resize(full_size_image, (WIDTH,HEIGHT), interpolation=cv2.INTER_CUBIC))\n",
        "        if img in classZero:\n",
        "            y.append(0)\n",
        "        elif img in classOne:\n",
        "            y.append(1)\n",
        "        else:\n",
        "            return\n",
        "    return x,y"
      ]
    },
    {
      "cell_type": "code",
      "execution_count": null,
      "metadata": {
        "id": "cn0zmT0Q5xPG",
        "outputId": "763dbf80-a021-433f-fd5b-d9af8ecdbae8"
      },
      "outputs": [
        {
          "name": "stdout",
          "output_type": "stream",
          "text": [
            "Wall time: 0 ns\n"
          ]
        }
      ],
      "source": [
        "%time\n",
        "X,Y = proc_images(0,200000)\n",
        "df = pd.DataFrame()\n",
        "df[\"images\"]=X\n",
        "df[\"labels\"]=Y\n",
        "X2=df[\"images\"]\n",
        "Y2=df[\"labels\"]\n",
        "X2=np.array(X2)\n",
        "imgs0=[]\n",
        "imgs1=[]\n",
        "imgs0 = X2[Y2==0] # (0 = no IDC, 1 = IDC)\n",
        "imgs1 = X2[Y2==1] "
      ]
    },
    {
      "cell_type": "code",
      "execution_count": null,
      "metadata": {
        "id": "PTZEz1rh5xPG",
        "outputId": "61c62bc3-4c3f-49dc-f720-8e0cbd4a6993"
      },
      "outputs": [
        {
          "name": "stdout",
          "output_type": "stream",
          "text": [
            "Total number of images: 200000\n",
            "Number of IDC(-) Images: 139588\n",
            "Number of IDC(+) Images: 60412\n",
            "Percentage of positive images: 30.21%\n",
            "Image shape (Width, Height, Channels): (50, 50, 3)\n"
          ]
        }
      ],
      "source": [
        "def describeData(a,b):\n",
        "    print('Total number of images: {}'.format(len(a)))\n",
        "    print('Number of IDC(-) Images: {}'.format(np.sum(b==0)))\n",
        "    print('Number of IDC(+) Images: {}'.format(np.sum(b==1)))\n",
        "    print('Percentage of positive images: {:.2f}%'.format(100*np.mean(b)))\n",
        "    print('Image shape (Width, Height, Channels): {}'.format(a[0].shape))\n",
        "describeData(X2,Y2)"
      ]
    },
    {
      "cell_type": "code",
      "execution_count": null,
      "metadata": {
        "id": "wyuC1m_u5xPH",
        "outputId": "7c929bf8-b6cb-491d-a57d-02065cabfdd1"
      },
      "outputs": [
        {
          "name": "stdout",
          "output_type": "stream",
          "text": [
            "                                              images  labels\n",
            "0  [[[206, 164, 226], [196, 154, 224], [211, 175,...       0\n",
            "1  [[[197, 150, 219], [201, 158, 217], [205, 173,...       0\n",
            "2  [[[249, 245, 248], [248, 246, 248], [253, 246,...       0\n",
            "3  [[[249, 247, 249], [249, 247, 249], [249, 247,...       0\n",
            "4  [[[237, 231, 241], [245, 242, 246], [235, 222,...       0\n",
            "5  [[[248, 246, 248], [248, 246, 248], [248, 246,...       0\n",
            "6  [[[175, 120, 212], [145, 88, 175], [132, 72, 1...       0\n",
            "7  [[[87, 38, 142], [120, 94, 165], [195, 180, 21...       0\n",
            "8  [[[235, 228, 240], [242, 240, 246], [252, 244,...       0\n",
            "9  [[[238, 223, 242], [239, 235, 241], [250, 245,...       0\n",
            "\n",
            "{0: 'IDC(-)', 1: 'IDC(+)'}\n"
          ]
        }
      ],
      "source": [
        "dict_characters = {0: 'IDC(-)', 1: 'IDC(+)'}\n",
        "print(df.head(10))\n",
        "print(\"\")\n",
        "print(dict_characters)"
      ]
    },
    {
      "cell_type": "code",
      "execution_count": null,
      "metadata": {
        "id": "toIm7LoP5xPH",
        "outputId": "be9a5e1a-ff7f-48b3-a0f7-7a7d76f4a4d1"
      },
      "outputs": [
        {
          "data": {
            "image/png": "[encoded data removed]",
            "text/plain": [
              "<Figure size 432x288 with 2 Axes>"
            ]
          },
          "metadata": {
            "needs_background": "light"
          },
          "output_type": "display_data"
        }
      ],
      "source": [
        "def plotOne(a,b):\n",
        "    \"\"\"\n",
        "    Plot one numpy array\n",
        "    \"\"\"\n",
        "    plt.subplot(1,2,1)\n",
        "    plt.title('IDC (-)')\n",
        "    plt.imshow(a[100])\n",
        "    plt.subplot(1,2,2)\n",
        "    plt.title('IDC (+)')\n",
        "    plt.imshow(b[100])\n",
        "plotOne(imgs0, imgs1) "
      ]
    },
    {
      "cell_type": "code",
      "execution_count": null,
      "metadata": {
        "id": "wY97MtdU5xPI"
      },
      "outputs": [],
      "source": [
        "X=np.array(X)\n",
        "X=X/255.0\n",
        "\n",
        "X_train, X_test, Y_train, Y_test = train_test_split(X, Y, test_size=0.15, random_state=42)\n"
      ]
    },
    {
      "cell_type": "code",
      "execution_count": null,
      "metadata": {
        "id": "Q_awWv1y5xPJ",
        "outputId": "ab913cee-06bf-4ef0-c3a2-0b3e915a1018"
      },
      "outputs": [
        {
          "name": "stdout",
          "output_type": "stream",
          "text": [
            "[INFO] training network...\n",
            "Train on 170000 samples, validate on 30000 samples\n",
            "Epoch 1/30\n",
            "170000/170000 [==============================] - 94s 551us/step - loss: 0.4854 - acc: 0.7793 - val_loss: 0.4136 - val_acc: 0.8213\n",
            "Epoch 2/30\n",
            "170000/170000 [==============================] - 64s 378us/step - loss: 0.4075 - acc: 0.8255 - val_loss: 0.4418 - val_acc: 0.8058\n",
            "Epoch 3/30\n",
            "170000/170000 [==============================] - 63s 370us/step - loss: 0.3841 - acc: 0.8369 - val_loss: 0.4720 - val_acc: 0.7811\n",
            "Epoch 4/30\n",
            "170000/170000 [==============================] - 62s 366us/step - loss: 0.3685 - acc: 0.8444 - val_loss: 0.3689 - val_acc: 0.8535\n",
            "Epoch 5/30\n",
            "170000/170000 [==============================] - 67s 393us/step - loss: 0.3567 - acc: 0.8489 - val_loss: 0.3664 - val_acc: 0.8433\n",
            "Epoch 6/30\n",
            "170000/170000 [==============================] - 69s 403us/step - loss: 0.3486 - acc: 0.8528 - val_loss: 0.3524 - val_acc: 0.8558\n",
            "Epoch 7/30\n",
            "170000/170000 [==============================] - 64s 374us/step - loss: 0.3423 - acc: 0.8553 - val_loss: 0.3437 - val_acc: 0.8608\n",
            "Epoch 8/30\n",
            "170000/170000 [==============================] - 71s 416us/step - loss: 0.3358 - acc: 0.8583 - val_loss: 0.3488 - val_acc: 0.8517\n",
            "Epoch 9/30\n",
            "170000/170000 [==============================] - 68s 400us/step - loss: 0.3323 - acc: 0.8588 - val_loss: 0.3268 - val_acc: 0.8677\n",
            "Epoch 10/30\n",
            "170000/170000 [==============================] - 66s 387us/step - loss: 0.3278 - acc: 0.8615 - val_loss: 0.3217 - val_acc: 0.8701\n",
            "Epoch 11/30\n",
            "170000/170000 [==============================] - 61s 357us/step - loss: 0.3244 - acc: 0.8624 - val_loss: 0.3423 - val_acc: 0.8552\n",
            "Epoch 12/30\n",
            "170000/170000 [==============================] - 63s 369us/step - loss: 0.3214 - acc: 0.8648 - val_loss: 0.3299 - val_acc: 0.8621\n",
            "Epoch 13/30\n",
            "170000/170000 [==============================] - 60s 350us/step - loss: 0.3187 - acc: 0.8654 - val_loss: 0.3436 - val_acc: 0.8568\n",
            "Epoch 14/30\n",
            "170000/170000 [==============================] - 71s 417us/step - loss: 0.3158 - acc: 0.8669 - val_loss: 0.3533 - val_acc: 0.8491\n",
            "Epoch 15/30\n",
            "170000/170000 [==============================] - 67s 397us/step - loss: 0.3130 - acc: 0.8679 - val_loss: 0.3369 - val_acc: 0.8579\n",
            "Epoch 16/30\n",
            "170000/170000 [==============================] - 63s 369us/step - loss: 0.3101 - acc: 0.8692 - val_loss: 0.3001 - val_acc: 0.8735\n",
            "Epoch 17/30\n",
            "170000/170000 [==============================] - 72s 424us/step - loss: 0.3079 - acc: 0.8695 - val_loss: 0.2985 - val_acc: 0.8759\n",
            "Epoch 18/30\n",
            "170000/170000 [==============================] - 71s 417us/step - loss: 0.3062 - acc: 0.8710 - val_loss: 0.3050 - val_acc: 0.8723\n",
            "Epoch 19/30\n",
            "170000/170000 [==============================] - 63s 372us/step - loss: 0.3042 - acc: 0.8721 - val_loss: 0.2985 - val_acc: 0.8756\n",
            "Epoch 20/30\n",
            "170000/170000 [==============================] - 61s 356us/step - loss: 0.3020 - acc: 0.8730 - val_loss: 0.2947 - val_acc: 0.8762\n",
            "Epoch 21/30\n",
            "170000/170000 [==============================] - 58s 339us/step - loss: 0.3001 - acc: 0.8736 - val_loss: 0.2982 - val_acc: 0.8715\n",
            "Epoch 22/30\n",
            "170000/170000 [==============================] - 59s 345us/step - loss: 0.2982 - acc: 0.8749 - val_loss: 0.3634 - val_acc: 0.8536\n",
            "Epoch 23/30\n",
            "170000/170000 [==============================] - 64s 374us/step - loss: 0.2961 - acc: 0.8757 - val_loss: 0.2994 - val_acc: 0.8754\n",
            "Epoch 24/30\n",
            "170000/170000 [==============================] - 64s 375us/step - loss: 0.2938 - acc: 0.8763 - val_loss: 0.3034 - val_acc: 0.8744\n",
            "Epoch 25/30\n",
            "170000/170000 [==============================] - 69s 407us/step - loss: 0.2922 - acc: 0.8771 - val_loss: 0.2984 - val_acc: 0.8786\n",
            "Epoch 26/30\n",
            "170000/170000 [==============================] - 60s 351us/step - loss: 0.2902 - acc: 0.8770 - val_loss: 0.3090 - val_acc: 0.8734\n",
            "Epoch 27/30\n",
            "170000/170000 [==============================] - 59s 347us/step - loss: 0.2888 - acc: 0.8785 - val_loss: 0.3107 - val_acc: 0.8747\n",
            "Epoch 28/30\n",
            "170000/170000 [==============================] - 67s 397us/step - loss: 0.2873 - acc: 0.8787 - val_loss: 0.3294 - val_acc: 0.8645\n",
            "Epoch 29/30\n",
            "170000/170000 [==============================] - 64s 376us/step - loss: 0.2854 - acc: 0.8797 - val_loss: 0.2939 - val_acc: 0.8774\n",
            "Epoch 30/30\n",
            "170000/170000 [==============================] - 63s 370us/step - loss: 0.2833 - acc: 0.8806 - val_loss: 0.2818 - val_acc: 0.8810\n",
            "_________________________________________________________________\n",
            "Layer (type)                 Output Shape              Param #   \n",
            "=================================================================\n",
            "conv2d_2 (Conv2D)            (None, 48, 48, 32)        896       \n",
            "_________________________________________________________________\n",
            "conv2d_3 (Conv2D)            (None, 46, 46, 32)        9248      \n",
            "_________________________________________________________________\n",
            "max_pooling2d_2 (MaxPooling2 (None, 23, 23, 32)        0         \n",
            "_________________________________________________________________\n",
            "dropout_1 (Dropout)          (None, 23, 23, 32)        0         \n",
            "_________________________________________________________________\n",
            "conv2d_4 (Conv2D)            (None, 21, 21, 64)        18496     \n",
            "_________________________________________________________________\n",
            "conv2d_5 (Conv2D)            (None, 19, 19, 64)        36928     \n",
            "_________________________________________________________________\n",
            "max_pooling2d_3 (MaxPooling2 (None, 9, 9, 64)          0         \n",
            "_________________________________________________________________\n",
            "dropout_2 (Dropout)          (None, 9, 9, 64)          0         \n",
            "_________________________________________________________________\n",
            "flatten_2 (Flatten)          (None, 5184)              0         \n",
            "_________________________________________________________________\n",
            "dense_4 (Dense)              (None, 256)               1327360   \n",
            "_________________________________________________________________\n",
            "dropout_3 (Dropout)          (None, 256)               0         \n",
            "_________________________________________________________________\n",
            "dense_5 (Dense)              (None, 10)                2570      \n",
            "=================================================================\n",
            "Total params: 1,395,498\n",
            "Trainable params: 1,395,498\n",
            "Non-trainable params: 0\n",
            "_________________________________________________________________\n"
          ]
        }
      ],
      "source": [
        "#Source: (fashion MNIST) https://www.tensorflow.org/tutorials/keras/basic_classification\n",
        "#Source: https://www.pyimagesearch.com/2018/09/10/keras-tutorial-how-to-get-started-with-keras-deep-learning-and-python/?fbclid=lwAR3WMQfZB513JosNLudYcv6DaaVwEv5pD6rQEMB4l_fDRxlwWfNG8gObmJU\n",
        "#Source: https://www.keras.io/getting-started/sequential-model-guide/\n",
        "\n",
        "from keras.models import Sequential\n",
        "from keras.layers import Dense, Dropout\n",
        "from keras.layers import Conv2D\n",
        "from keras.layers import Flatten, Activation\n",
        "import keras.backend as K\n",
        "\n",
        "model=Sequential()\n",
        "\n",
        "#VGG-like convnet architecture\n",
        "model.add(Conv2D(filters=32,kernel_size=(3,3), strides=(1,1), activation='relu', input_shape=(50,50,3)))\n",
        "model.add(Conv2D(filters=32, kernel_size=(3,3),strides=(1,1), activation='relu'))\n",
        "model.add(MaxPool2D(pool_size=(2,2)))\n",
        "model.add(Dropout(0.25))\n",
        "\n",
        "model.add(Conv2D(filters=64, kernel_size=(3,3), activation='relu'))\n",
        "model.add(Conv2D(filters=64, kernel_size=(3,3), activation='relu'))\n",
        "model.add(MaxPool2D(pool_size=(2,2)))\n",
        "model.add(Dropout(0.25))\n",
        "\n",
        "model.add(Flatten())\n",
        "model.add(Dense(256, activation='relu'))\n",
        "model.add(Dropout(0.5))\n",
        "model.add(Dense(10, activation='softmax'))\n",
        "\n",
        "INIT_LR = 0.01\n",
        "EPOCHS = 30\n",
        "\n",
        "print(\"[INFO] training network...\")\n",
        "opt = SGD(lr=INIT_LR)\n",
        "\n",
        "#Source: (fashion MNIST) https://www.tensorflow.org/tutorials/keras/basic_classification\n",
        "model.compile(loss='sparse_categorical_crossentropy',\n",
        "              optimizer=opt,\n",
        "                 metrics=['accuracy'])\n",
        "# train the network\n",
        "H = model.fit(X_train, Y_train, validation_data = (X_test, Y_test), epochs=EPOCHS, batch_size=32)\n",
        "\n",
        "model.summary()"
      ]
    },
    {
      "cell_type": "code",
      "execution_count": null,
      "metadata": {
        "id": "Qw-3gG-H5xPK",
        "outputId": "63070463-35d5-4059-dc6b-5ede29172f9c"
      },
      "outputs": [
        {
          "name": "stdout",
          "output_type": "stream",
          "text": [
            "[INFO] evaluating network...\n",
            "30000/30000 [==============================] - 5s 159us/step\n"
          ]
        },
        {
          "data": {
            "text/plain": [
              "<matplotlib.legend.Legend at 0x1e126d33240>"
            ]
          },
          "execution_count": 13,
          "metadata": {},
          "output_type": "execute_result"
        },
        {
          "data": {
            "image/png": "[encoded data removed]",
            "text/plain": [
              "<Figure size 432x288 with 1 Axes>"
            ]
          },
          "metadata": {},
          "output_type": "display_data"
        }
      ],
      "source": [
        "#Source: https://www.pyimagesearch.com/2018/09/10/keras-tutorial-how-to-get-started-with-keras-deep-learning-and-python/?fbclid=lwAR3WMQfZB513JosNLudYcv6DaaVwEv5pD6rQEMB4l_fDRxlwWfNG8gObmJU\n",
        "\n",
        "# evaluate the network\n",
        "print(\"[INFO] evaluating network...\")\n",
        "score = model.evaluate(X_test, Y_test, batch_size=32)\n",
        "\n",
        "\n",
        "# plot the training loss and accuracy\n",
        "N = np.arange(0, EPOCHS)\n",
        "plt.style.use(\"ggplot\")\n",
        "plt.figure()\n",
        "plt.plot(N, H.history[\"loss\"], label=\"train_loss\")\n",
        "plt.plot(N, H.history[\"val_loss\"], label=\"val_loss\")\n",
        "plt.plot(N, H.history[\"acc\"], label=\"train_acc\")\n",
        "plt.plot(N, H.history[\"val_acc\"], label=\"val_acc\")\n",
        "plt.title(\"Training Loss and Accuracy\")\n",
        "plt.xlabel(\"Epoch #\")\n",
        "plt.ylabel(\"Loss/Accuracy\")\n",
        "plt.legend()\n"
      ]
    }
  ],
  "metadata": {
    "kernelspec": {
      "display_name": "Python 3",
      "language": "python",
      "name": "python3"
    },
    "language_info": {
      "codemirror_mode": {
        "name": "ipython",
        "version": 3
      },
      "file_extension": ".py",
      "mimetype": "text/x-python",
      "name": "python",
      "nbconvert_exporter": "python",
      "pygments_lexer": "ipython3",
      "version": "3.6.7"
    },
    "colab": {
      "name": "breast_cancer_detection_Model05.ipynb",
      "provenance": [],
      "include_colab_link": true
    }
  },
  "nbformat": 4,
  "nbformat_minor": 0
}